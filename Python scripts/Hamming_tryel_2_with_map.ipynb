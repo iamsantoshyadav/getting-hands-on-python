{
 "cells": [
  {
   "cell_type": "code",
   "execution_count": 99,
   "metadata": {
    "collapsed": false
   },
   "outputs": [
    {
     "name": "stdout",
     "output_type": "stream",
     "text": [
      "11\n"
     ]
    }
   ],
   "source": [
    "import math\n",
    "import functools\n",
    "\n",
    "def prime_function(no,k):\n",
    "    check=None\n",
    "    tmp=no\n",
    "    \n",
    "    for mul in range(2,k+1):\n",
    "        if no%mul==0:\n",
    "            while no%mul==0:\n",
    "                no=no/mul\n",
    "            if mul<=k:\n",
    "                check=True\n",
    "            else :\n",
    "                check=False\n",
    "        if no>k:\n",
    "            check=False\n",
    "    if check==True:\n",
    "        return(tmp)\n",
    "        check=False           \n",
    "count=1\n",
    "n=5\n",
    "for no in map(functools.partial(prime_function, k=n), range(1,16)):\n",
    "    if no!=None:\n",
    "        count=count+1\n",
    "print(count)\n",
    "    "
   ]
  }
 ],
 "metadata": {
  "kernelspec": {
   "display_name": "Python 3",
   "language": "python",
   "name": "python3"
  },
  "language_info": {
   "codemirror_mode": {
    "name": "ipython",
    "version": 3
   },
   "file_extension": ".py",
   "mimetype": "text/x-python",
   "name": "python",
   "nbconvert_exporter": "python",
   "pygments_lexer": "ipython3",
   "version": "3.6.0"
  }
 },
 "nbformat": 4,
 "nbformat_minor": 2
}
