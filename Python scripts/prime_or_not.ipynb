{
 "cells": [
  {
   "cell_type": "code",
   "execution_count": 65,
   "metadata": {
    "collapsed": false
   },
   "outputs": [
    {
     "name": "stdout",
     "output_type": "stream",
     "text": [
      "no is not prime\n"
     ]
    }
   ],
   "source": [
    "n=15\n",
    "check=\"\"\n",
    "for i in range(2,n-1,1):\n",
    "    if i>1:\n",
    "        if n%i==0:\n",
    "            check=\"not prime\"\n",
    "            break\n",
    "if check==\"not prime\" :\n",
    "    print(\"no is not prime\")\n",
    "else :\n",
    "    print(\"no is prime\")\n",
    "    "
   ]
  }
 ],
 "metadata": {
  "kernelspec": {
   "display_name": "Python 3",
   "language": "python",
   "name": "python3"
  },
  "language_info": {
   "codemirror_mode": {
    "name": "ipython",
    "version": 3
   },
   "file_extension": ".py",
   "mimetype": "text/x-python",
   "name": "python",
   "nbconvert_exporter": "python",
   "pygments_lexer": "ipython3",
   "version": "3.6.0"
  }
 },
 "nbformat": 4,
 "nbformat_minor": 2
}
