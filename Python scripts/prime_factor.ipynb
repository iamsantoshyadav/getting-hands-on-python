{
 "cells": [
  {
   "cell_type": "code",
   "execution_count": 5,
   "metadata": {
    "collapsed": false
   },
   "outputs": [
    {
     "name": "stdout",
     "output_type": "stream",
     "text": [
      "All factor :  [1, 2, 7]\n",
      "factor less than  5 :  [1, 2]\n"
     ]
    }
   ],
   "source": [
    "#this program is for finding prime factor of any no\n",
    "no=14\n",
    "k=5\n",
    "all_factors=[1]\n",
    "factor=[1]\n",
    "for i in range(2,no+1,1):\n",
    "    if no%i==0:\n",
    "        while no%i==0:\n",
    "            all_factors.append(i)\n",
    "            no=no/i\n",
    "        if i<=no:    #this is for factors less than given no change it in case another factors\n",
    "            factor.append(i)\n",
    "print(\"All factor : \",all_factors)\n",
    "print(\"factor less than \",k,\": \",factor)\n"
   ]
  }
 ],
 "metadata": {
  "kernelspec": {
   "display_name": "Python 3",
   "language": "python",
   "name": "python3"
  },
  "language_info": {
   "codemirror_mode": {
    "name": "ipython",
    "version": 3
   },
   "file_extension": ".py",
   "mimetype": "text/x-python",
   "name": "python",
   "nbconvert_exporter": "python",
   "pygments_lexer": "ipython3",
   "version": "3.6.0"
  }
 },
 "nbformat": 4,
 "nbformat_minor": 2
}
