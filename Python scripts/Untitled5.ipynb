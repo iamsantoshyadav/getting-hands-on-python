{
 "cells": [
  {
   "cell_type": "code",
   "execution_count": 3,
   "metadata": {
    "collapsed": false
   },
   "outputs": [
    {
     "name": "stdout",
     "output_type": "stream",
     "text": [
      "Prime :  [1, 2, 3, 5, 7, 11, 13]\n",
      "not prime :  [4, 6, 6, 8, 8, 9, 10, 10, 12, 12, 12, 12, 14, 14, 15, 15]\n"
     ]
    }
   ],
   "source": [
    "prime=[]\n",
    "notprime=[]\n",
    "no=15\n",
    "check=\"\"\n",
    "for j in range(1,no+1,1): #passing tha range of no i which we want to find prime no\n",
    "    for i in range(2,j-1,1):# From here a ll the logic is same for a single no that it is prime or not\n",
    "            if j%i==0: # this is expression for is no divisible by nos betwee 1 and itself\n",
    "                check=\"not prime\"#make sure it has to be set again its previous value which is check=\"\"\n",
    "                notprime.append(j)\n",
    "                \n",
    "    if check==\"not prime\" :\n",
    "        \n",
    "        check=\"\"\n",
    "        \n",
    "    else :\n",
    "        prime.append(j)\n",
    "print(\"Prime : \",prime)\n",
    "print(\"not prime : \",notprime)\n",
    "\n",
    "\n",
    "    "
   ]
  }
 ],
 "metadata": {
  "kernelspec": {
   "display_name": "Python 3",
   "language": "python",
   "name": "python3"
  },
  "language_info": {
   "codemirror_mode": {
    "name": "ipython",
    "version": 3
   },
   "file_extension": ".py",
   "mimetype": "text/x-python",
   "name": "python",
   "nbconvert_exporter": "python",
   "pygments_lexer": "ipython3",
   "version": "3.6.0"
  }
 },
 "nbformat": 4,
 "nbformat_minor": 2
}
