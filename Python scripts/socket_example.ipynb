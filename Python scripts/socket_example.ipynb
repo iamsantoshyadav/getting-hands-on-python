{
 "cells": [
  {
   "cell_type": "code",
   "execution_count": null,
   "metadata": {
    "collapsed": true
   },
   "outputs": [],
   "source": [
    "import socket\n",
    "mysocket=socket.socket(socket.AF_INET,socket.SOCK_STREAM)\n",
    "host_name = \"data.pr4e.org\"\n",
    "port=80\n",
    "mysocket.connect((host_name,port))\n",
    "request=\"GET http://data.pr4e.org/romeo.txt HTTP/1.0\\r\\n\\r\\n\".encode()\n",
    "mysocket.send(request)\n",
    "while True :\n",
    "    data=mysocket.recv(512)\n",
    "    if len(data)<1 :\n",
    "        break\n",
    "    print(data.en)\n"
   ]
  }
 ],
 "metadata": {
  "kernelspec": {
   "display_name": "Python 3",
   "language": "python",
   "name": "python3"
  },
  "language_info": {
   "codemirror_mode": {
    "name": "ipython",
    "version": 3
   },
   "file_extension": ".py",
   "mimetype": "text/x-python",
   "name": "python",
   "nbconvert_exporter": "python",
   "pygments_lexer": "ipython3",
   "version": "3.6.0"
  }
 },
 "nbformat": 4,
 "nbformat_minor": 2
}
