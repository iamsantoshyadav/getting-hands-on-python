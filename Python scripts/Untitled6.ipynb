{
 "cells": [
  {
   "cell_type": "code",
   "execution_count": 5,
   "metadata": {
    "collapsed": false
   },
   "outputs": [
    {
     "name": "stdout",
     "output_type": "stream",
     "text": [
      "[1, 2, 3, 5, 7, 11, 13]\n",
      "[4, 6, 8, 9, 10, 12, 14, 15]\n",
      "hamming code :  11\n"
     ]
    }
   ],
   "source": [
    "n=15\n",
    "prime=[]\n",
    "not_prime=[]\n",
    "check=\"\"\n",
    "for j in range(1,n+1,1) :\n",
    "    for i in range(2,j-1,1):\n",
    "        if j%i==0:\n",
    "            check=\"not prime\"\n",
    "    if check==\"not prime\":\n",
    "        not_prime.append(j)\n",
    "        check=\"\"\n",
    "    else :\n",
    "        prime.append(j)\n",
    "print(prime)\n",
    "print(not_prime)\n",
    "count=0\n",
    "for no in prime :\n",
    "    if no<=5:\n",
    "        count=count+1\n",
    "print(\"hamming code : \",(count+len(not_prime))-1)\n",
    "\n",
    "        "
   ]
  }
 ],
 "metadata": {
  "kernelspec": {
   "display_name": "Python 3",
   "language": "python",
   "name": "python3"
  },
  "language_info": {
   "codemirror_mode": {
    "name": "ipython",
    "version": 3
   },
   "file_extension": ".py",
   "mimetype": "text/x-python",
   "name": "python",
   "nbconvert_exporter": "python",
   "pygments_lexer": "ipython3",
   "version": "3.6.0"
  }
 },
 "nbformat": 4,
 "nbformat_minor": 2
}
