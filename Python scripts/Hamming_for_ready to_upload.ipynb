{
 "cells": [
  {
   "cell_type": "code",
   "execution_count": null,
   "metadata": {
    "collapsed": false
   },
   "outputs": [],
   "source": [
    "#!/bin/python3\n",
    "import math\n",
    "import functools\n",
    "import sys\n",
    "def prime_function(no,k):\n",
    "    check=None\n",
    "    tmp=no\n",
    "    \n",
    "    for mul in range(2,k+1):\n",
    "        if no%mul==0:\n",
    "            while no%mul==0:\n",
    "                no=no/mul\n",
    "            if mul<=k:\n",
    "                check=True\n",
    "            else :\n",
    "                check=False\n",
    "        if no>k:\n",
    "            check=False\n",
    "    if check==True:\n",
    "        return(tmp)\n",
    "        check=False  \n",
    "\n",
    "def generalisedHammingNumbers(n, k):\n",
    "    count=1\n",
    "    no=k\n",
    "    for no in map(functools.partial(prime_function, k=no), range(1,n+1)):\n",
    "        if no!=None:\n",
    "            count=count+1\n",
    "    return(count)\n",
    "if __name__ == \"__main__\":\n",
    "    n, k = input().strip().split(' ')\n",
    "    n, k = [int(n), int(k)]\n",
    "    result = generalisedHammingNumbers(n, k)\n",
    "    print(result)\n"
   ]
  }
 ],
 "metadata": {
  "kernelspec": {
   "display_name": "Python 3",
   "language": "python",
   "name": "python3"
  },
  "language_info": {
   "codemirror_mode": {
    "name": "ipython",
    "version": 3
   },
   "file_extension": ".py",
   "mimetype": "text/x-python",
   "name": "python",
   "nbconvert_exporter": "python",
   "pygments_lexer": "ipython3",
   "version": "3.6.0"
  }
 },
 "nbformat": 4,
 "nbformat_minor": 2
}
