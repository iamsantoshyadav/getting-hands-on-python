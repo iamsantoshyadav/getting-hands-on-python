{
 "cells": [
  {
   "cell_type": "code",
   "execution_count": 9,
   "metadata": {
    "collapsed": false
   },
   "outputs": [
    {
     "name": "stdout",
     "output_type": "stream",
     "text": [
      "['Name', 'Roll', 'Number', 'Enroll', 'Number', 'Father', 'Name', 'Email', 'Id', 'Date', 'Of', 'Birth', 'Mobile', 'No', 'Gender', 'Accommodation', 'Type', 'Address', 'State', 'District', 'City', 'Pincode', 'X', 'School', 'X', 'Board', 'X', 'Medium', 'X', 'Passing', 'Year', 'X', 'Percentage', 'XII', 'School', 'XII', 'Board', 'XII', 'Medium', 'XII', 'Passing', 'Year', 'XII', 'Stream', 'XII', 'Percentage', 'Current', 'Program', 'Current', 'Major', 'Stream', 'Starting', 'Month', 'Starting', 'Year', 'Passing', 'Month', 'Passing', 'Year', 'Marks', 'Upto', 'Percentage', 'Current', 'Backlogs', 'Cleared', 'Backlogs', 'Year', 'Gap', 'College', 'Name', 'College', 'University', 'Starting', 'Month', 'Starting', 'Year', 'Passing', 'Month', 'Passing', 'Year']\n"
     ]
    }
   ],
   "source": [
    "fhand=open(\"file1.txt\",\"r\")\n",
    "data=fhand.read()\n",
    "print(data.split())\n",
    "for line in fhand:\n",
    "    line=line.split()\n",
    "    print(line)"
   ]
  }
 ],
 "metadata": {
  "kernelspec": {
   "display_name": "Python 3",
   "language": "python",
   "name": "python3"
  },
  "language_info": {
   "codemirror_mode": {
    "name": "ipython",
    "version": 3
   },
   "file_extension": ".py",
   "mimetype": "text/x-python",
   "name": "python",
   "nbconvert_exporter": "python",
   "pygments_lexer": "ipython3",
   "version": "3.6.0"
  }
 },
 "nbformat": 4,
 "nbformat_minor": 2
}
