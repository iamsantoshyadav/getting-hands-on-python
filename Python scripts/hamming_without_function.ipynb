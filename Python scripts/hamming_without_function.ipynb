{
 "cells": [
  {
   "cell_type": "code",
   "execution_count": 6,
   "metadata": {
    "collapsed": false
   },
   "outputs": [
    {
     "name": "stdout",
     "output_type": "stream",
     "text": [
      "175\n"
     ]
    }
   ],
   "source": [
    "#this program is for finding prime factor of any no\n",
    "n=10000\n",
    "k=5\n",
    "no1=n\n",
    "prime=[2,3,5]\n",
    "factor=[1]\n",
    "count=1\n",
    "check_prime=[]\n",
    "for no in range(2,n+1,1):\n",
    "    no1=no\n",
    "    for i in prime:\n",
    "        if no%i==0:\n",
    "            while no%i==0:\n",
    "                no=no/i\n",
    "            if i>=2 and i<=k:\n",
    "                check=True\n",
    "            else :\n",
    "                check=False\n",
    "        if no>k:\n",
    "            check=False\n",
    "    if check==True:\n",
    "        check=False\n",
    "        count=count+1\n",
    "print(count)"
   ]
  }
 ],
 "metadata": {
  "kernelspec": {
   "display_name": "Python 3",
   "language": "python",
   "name": "python3"
  },
  "language_info": {
   "codemirror_mode": {
    "name": "ipython",
    "version": 3
   },
   "file_extension": ".py",
   "mimetype": "text/x-python",
   "name": "python",
   "nbconvert_exporter": "python",
   "pygments_lexer": "ipython3",
   "version": "3.6.0"
  }
 },
 "nbformat": 4,
 "nbformat_minor": 2
}
