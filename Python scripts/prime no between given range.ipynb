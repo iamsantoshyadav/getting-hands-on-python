{
 "cells": [
  {
   "cell_type": "code",
   "execution_count": 5,
   "metadata": {
    "collapsed": false
   },
   "outputs": [
    {
     "name": "stdout",
     "output_type": "stream",
     "text": [
      "[1, 2, 3, 5, 7, 11, 13, 17, 19, 23, 29, 31, 37, 41, 43, 47, 53, 59, 61, 67, 71, 73, 79, 83, 89, 97]\n"
     ]
    }
   ],
   "source": [
    "prime=[]\n",
    "no=100\n",
    "check=\"\"\n",
    "for j in range(1,no+1,1): #passing tha range of no i which we want to find prime no\n",
    "    for i in range(2,j-1,1):# From here a ll the logic is same for a single no that it is prime or not\n",
    "            if j%i==0: # this is expression for is no divisible by nos betwee 1 and itself\n",
    "                check=\"not prime\" #make sure it has to be set again its previous value which is check=\"\"\n",
    "                \n",
    "    if check==\"not prime\" :\n",
    "        check=\"\"\n",
    "        \n",
    "    else :\n",
    "        prime.append(j)\n",
    "print(prime)\n",
    "\n",
    "    "
   ]
  }
 ],
 "metadata": {
  "kernelspec": {
   "display_name": "Python 3",
   "language": "python",
   "name": "python3"
  },
  "language_info": {
   "codemirror_mode": {
    "name": "ipython",
    "version": 3
   },
   "file_extension": ".py",
   "mimetype": "text/x-python",
   "name": "python",
   "nbconvert_exporter": "python",
   "pygments_lexer": "ipython3",
   "version": "3.6.0"
  }
 },
 "nbformat": 4,
 "nbformat_minor": 2
}
