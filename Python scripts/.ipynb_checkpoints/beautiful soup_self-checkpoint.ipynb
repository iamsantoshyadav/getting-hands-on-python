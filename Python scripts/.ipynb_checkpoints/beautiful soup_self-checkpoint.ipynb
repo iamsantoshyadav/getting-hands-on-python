{
 "cells": [
  {
   "cell_type": "code",
   "execution_count": null,
   "metadata": {
    "collapsed": false
   },
   "outputs": [],
   "source": [
    "import urllib.request, urllib.parse, urllib.error\n",
    "from bs4 import BeautifulSoup\n",
    "url=input(\"Enter url here : \")\n",
    "html=urllib.request.urlopen(url)\n",
    "for line in html:\n",
    "    print(line)\n",
    "soup=BeautifulSoup(html,'html.parser')\n",
    "tags=soup('a')\n",
    "for tag in tags :\n",
    "    print(tag.get(\"href\",None))"
   ]
  }
 ],
 "metadata": {
  "kernelspec": {
   "display_name": "Python 3",
   "language": "python",
   "name": "python3"
  },
  "language_info": {
   "codemirror_mode": {
    "name": "ipython",
    "version": 3
   },
   "file_extension": ".py",
   "mimetype": "text/x-python",
   "name": "python",
   "nbconvert_exporter": "python",
   "pygments_lexer": "ipython3",
   "version": "3.6.0"
  }
 },
 "nbformat": 4,
 "nbformat_minor": 2
}
